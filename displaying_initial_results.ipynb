{
 "cells": [
  {
   "cell_type": "markdown",
   "id": "711e959f-76bf-4776-9351-02d194fc4262",
   "metadata": {},
   "source": [
    "## Displaying Data"
   ]
  },
  {
   "cell_type": "code",
   "execution_count": 1,
   "id": "4edad501-2000-4f05-bbc1-e4a160a869dd",
   "metadata": {},
   "outputs": [],
   "source": [
    "import pandas as pd\n",
    "import matplotlib.pyplot as plt"
   ]
  },
  {
   "cell_type": "code",
   "execution_count": 37,
   "id": "adbcecf2-c33b-4121-b592-b7ba4f903ece",
   "metadata": {},
   "outputs": [
    {
     "data": {
      "text/plain": [
       "<Figure size 432x288 with 0 Axes>"
      ]
     },
     "metadata": {},
     "output_type": "display_data"
    }
   ],
   "source": [
    "for size in range(2,16):\n",
    "    data = pd.read_csv('data/' + str(size) + 'x' + str(size) + '_diagonal_values.csv', header = None)\n",
    "    data.drop(data.index[0], inplace = True)\n",
    "    alpha = data[0]\n",
    "    for i in range(1,size+1):\n",
    "        diagonal = data[i]\n",
    "        plt.scatter(alpha, diagonal, s=15)\n",
    "        plt.title('Alpha Values and Corresponding Diagonals for ' + str(size) + 'x' + str(size))\n",
    "        plt.xlabel('Alpha Values')\n",
    "        plt.ylabel('Diagonal Values')\n",
    "    plt.savefig('graphs/' + str(size) + 'x' + str(size) + '_diagonal')\n",
    "    plt.clf()"
   ]
  }
 ],
 "metadata": {
  "kernelspec": {
   "display_name": "Python 3",
   "language": "python",
   "name": "python3"
  },
  "language_info": {
   "codemirror_mode": {
    "name": "ipython",
    "version": 3
   },
   "file_extension": ".py",
   "mimetype": "text/x-python",
   "name": "python",
   "nbconvert_exporter": "python",
   "pygments_lexer": "ipython3",
   "version": "3.8.8"
  }
 },
 "nbformat": 4,
 "nbformat_minor": 5
}
